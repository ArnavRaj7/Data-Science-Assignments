{
 "cells": [
  {
   "cell_type": "raw",
   "id": "37e1b419-292e-4b75-bec1-6f8a73f2c3ce",
   "metadata": {},
   "source": [
    "Question 1"
   ]
  },
  {
   "cell_type": "code",
   "execution_count": 78,
   "id": "dc2f7852-bd68-4edc-a464-895a109e26a3",
   "metadata": {},
   "outputs": [],
   "source": [
    "list1 = [1,2,3,4, [44,55,66, True], False, (34,56,78,89,34), {1,2,3,3,2,1}, {1:34, \"key2\": [55, 67, 78, 89], 4: (45,\n",
    "22, 61, 34)}, [56, 'data science'], 'Machine Learning']"
   ]
  },
  {
   "cell_type": "code",
   "execution_count": 81,
   "id": "a4bb75c7-ebb6-4375-95fe-90331d9268a4",
   "metadata": {},
   "outputs": [],
   "source": [
    "from functools import reduce\n",
    "\n",
    "def q(p):\n",
    "    l=[]\n",
    "    for i in p:\n",
    "        if type(i)==int or type(i)==float:\n",
    "            l.append(i)\n",
    "            \n",
    "        elif type(i)==list:\n",
    "            l.extend(i)\n",
    "        elif type(i)==tuple or type(i)==set:\n",
    "            l.extend(list(i))\n",
    "        elif type(i)==dict:\n",
    "            for k,v in i.items():\n",
    "                l.append(k)\n",
    "                \n",
    "                if type(v)==int or type(v)==float:\n",
    "                    l.append(v)\n",
    "                elif type(v)==tuple or type(v)==set:\n",
    "                    l.extend(list(v))\n",
    "                elif type(v)==list:\n",
    "                    l.extend(v)\n",
    "        \n",
    "    w=list(filter(lambda x: type(x)==int or type(x)==float,l))\n",
    "    r=reduce(lambda x,y: x*y,w)\n",
    "    return r\n",
    "            \n",
    "        "
   ]
  },
  {
   "cell_type": "code",
   "execution_count": 82,
   "id": "10bbe4f1-1eb1-4bd9-89df-627caa95edbc",
   "metadata": {},
   "outputs": [
    {
     "data": {
      "text/plain": [
       "4134711838987085478833841242112000"
      ]
     },
     "execution_count": 82,
     "metadata": {},
     "output_type": "execute_result"
    }
   ],
   "source": [
    "q(list1)"
   ]
  },
  {
   "cell_type": "raw",
   "id": "e988ca90-d5c0-4f17-bbc1-2da41f233c3f",
   "metadata": {},
   "source": [
    "Question 2"
   ]
  },
  {
   "cell_type": "code",
   "execution_count": 2,
   "id": "22b6bcdf-2388-4321-a237-490135be7b06",
   "metadata": {},
   "outputs": [],
   "source": [
    "def e(s):\n",
    "    n=s.lower()\n",
    "    print(f\"Given String: {s}\\n\")\n",
    "    msg=\"\"\n",
    "    for i in n:\n",
    "        asc=ord(i)\n",
    "        if asc(i)>=97 and asc(i)<=122:\n",
    "            msg = msg + char(122 - (asc - 97))\n",
    "        elif i== \" \":\n",
    "            msg = msg + \"$\"\n",
    "    print(f\"Encrypted Message = {msg}\\n\")"
   ]
  },
  {
   "cell_type": "code",
   "execution_count": 3,
   "id": "07629a7a-d2b5-47fb-904b-5b598527c29c",
   "metadata": {},
   "outputs": [
    {
     "name": "stdout",
     "output_type": "stream",
     "text": [
      "Given String: Arnav\n",
      "\n"
     ]
    },
    {
     "ename": "TypeError",
     "evalue": "'int' object is not callable",
     "output_type": "error",
     "traceback": [
      "\u001b[0;31m---------------------------------------------------------------------------\u001b[0m",
      "\u001b[0;31mTypeError\u001b[0m                                 Traceback (most recent call last)",
      "Cell \u001b[0;32mIn[3], line 1\u001b[0m\n\u001b[0;32m----> 1\u001b[0m \u001b[43me\u001b[49m\u001b[43m(\u001b[49m\u001b[38;5;124;43m\"\u001b[39;49m\u001b[38;5;124;43mArnav\u001b[39;49m\u001b[38;5;124;43m\"\u001b[39;49m\u001b[43m)\u001b[49m\n",
      "Cell \u001b[0;32mIn[2], line 7\u001b[0m, in \u001b[0;36me\u001b[0;34m(s)\u001b[0m\n\u001b[1;32m      5\u001b[0m \u001b[38;5;28;01mfor\u001b[39;00m i \u001b[38;5;129;01min\u001b[39;00m n:\n\u001b[1;32m      6\u001b[0m     asc\u001b[38;5;241m=\u001b[39m\u001b[38;5;28mord\u001b[39m(i)\n\u001b[0;32m----> 7\u001b[0m     \u001b[38;5;28;01mif\u001b[39;00m \u001b[43masc\u001b[49m\u001b[43m(\u001b[49m\u001b[43mi\u001b[49m\u001b[43m)\u001b[49m\u001b[38;5;241m>\u001b[39m\u001b[38;5;241m=\u001b[39m\u001b[38;5;241m97\u001b[39m \u001b[38;5;129;01mand\u001b[39;00m asc(i)\u001b[38;5;241m<\u001b[39m\u001b[38;5;241m=\u001b[39m\u001b[38;5;241m122\u001b[39m:\n\u001b[1;32m      8\u001b[0m         msg \u001b[38;5;241m=\u001b[39m msg \u001b[38;5;241m+\u001b[39m char(\u001b[38;5;241m122\u001b[39m \u001b[38;5;241m-\u001b[39m (asc \u001b[38;5;241m-\u001b[39m \u001b[38;5;241m97\u001b[39m))\n\u001b[1;32m      9\u001b[0m     \u001b[38;5;28;01melif\u001b[39;00m i\u001b[38;5;241m==\u001b[39m \u001b[38;5;124m\"\u001b[39m\u001b[38;5;124m \u001b[39m\u001b[38;5;124m\"\u001b[39m:\n",
      "\u001b[0;31mTypeError\u001b[0m: 'int' object is not callable"
     ]
    }
   ],
   "source": [
    "e(\"Arnav\")"
   ]
  },
  {
   "cell_type": "code",
   "execution_count": null,
   "id": "63c8a1d4-0b7f-48eb-8a31-9a0fcae1091c",
   "metadata": {},
   "outputs": [],
   "source": []
  }
 ],
 "metadata": {
  "kernelspec": {
   "display_name": "Python 3 (ipykernel)",
   "language": "python",
   "name": "python3"
  },
  "language_info": {
   "codemirror_mode": {
    "name": "ipython",
    "version": 3
   },
   "file_extension": ".py",
   "mimetype": "text/x-python",
   "name": "python",
   "nbconvert_exporter": "python",
   "pygments_lexer": "ipython3",
   "version": "3.10.8"
  }
 },
 "nbformat": 4,
 "nbformat_minor": 5
}
