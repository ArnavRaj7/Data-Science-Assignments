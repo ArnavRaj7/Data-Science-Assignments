{
 "cells": [
  {
   "cell_type": "raw",
   "id": "d4083438-8930-4dd1-b00f-fe746a5f29eb",
   "metadata": {},
   "source": [
    "Question 1: Which keyword is used to create a function? Create a function to return a list of odd numbers in the\n",
    "range of 1 to 25."
   ]
  },
  {
   "cell_type": "code",
   "execution_count": 11,
   "id": "5fa83154-fce0-4061-a933-11d01c055e5f",
   "metadata": {},
   "outputs": [],
   "source": [
    "# Solution :\n",
    "# 'def' Keyword is used to create a function in python.\n",
    "def odd(n):\n",
    "    return [n for n in range(n+1) if n % 2==1]"
   ]
  },
  {
   "cell_type": "code",
   "execution_count": 13,
   "id": "664429ee-f244-4ec8-a55f-ead010f88485",
   "metadata": {},
   "outputs": [
    {
     "data": {
      "text/plain": [
       "[1, 3, 5, 7, 9, 11, 13, 15, 17, 19, 21, 23, 25]"
      ]
     },
     "execution_count": 13,
     "metadata": {},
     "output_type": "execute_result"
    }
   ],
   "source": [
    "odd(25)"
   ]
  },
  {
   "cell_type": "code",
   "execution_count": 45,
   "id": "0478604a-d430-4637-8afa-4b7e2374d406",
   "metadata": {},
   "outputs": [],
   "source": [
    "'''# Question 2: Why *args and **kwargs is used in some functions? Create a function each for *args and **kwargs to demonstrate their use.\n",
    "\n",
    "Solution : '*args' and '**kwargs' are used in some functions when we need to pass more than a single argument in a function.\n",
    "#Furthermore,'*args' is used when we need to pass single Keywords, whereas '**kwargs' is used when arguments are need to be passed in a Key-Value pair like Dictionary.'''\n",
    "\n",
    "def a(*args):\n",
    "    l=[]\n",
    "    for i in args:\n",
    "        if type(i)==int:\n",
    "            l.append(i)\n",
    "    return l"
   ]
  },
  {
   "cell_type": "code",
   "execution_count": 46,
   "id": "26d193c0-a5bc-4cb6-b314-e18a6c4f430f",
   "metadata": {},
   "outputs": [
    {
     "data": {
      "text/plain": [
       "[1, 2]"
      ]
     },
     "execution_count": 46,
     "metadata": {},
     "output_type": "execute_result"
    }
   ],
   "source": [
    "a(1,2,\"arnav\",[3,4])"
   ]
  },
  {
   "cell_type": "code",
   "execution_count": 42,
   "id": "c8fc2f39-a9b0-458e-a352-98d4f55616b2",
   "metadata": {},
   "outputs": [],
   "source": [
    "def b(**kwargs):\n",
    "    l=[]\n",
    "    for i in kwargs.values():\n",
    "        l.append(i)\n",
    "    return l"
   ]
  },
  {
   "cell_type": "code",
   "execution_count": 43,
   "id": "6fb94772-1447-4d25-8c4e-3cb0924de89d",
   "metadata": {},
   "outputs": [
    {
     "data": {
      "text/plain": [
       "[12, 34, 47]"
      ]
     },
     "execution_count": 43,
     "metadata": {},
     "output_type": "execute_result"
    }
   ],
   "source": [
    "b(a=12,c=34,d=47)"
   ]
  },
  {
   "cell_type": "code",
   "execution_count": 54,
   "id": "09a675a1-11a9-4609-bfcc-be19badc7db8",
   "metadata": {},
   "outputs": [],
   "source": [
    "# Question 3: Q3. What is an iterator in python? Name the method used to initialise the iterator object and the methodused for iteration. Use these methods to print the first five elements of the given list [2, 4, 6, 8, 10, 12, 14, 16,18, 20].\n",
    "\n",
    "#Solution: An iterator is an object that contains a countable number of values.\n",
    "\n",
    "#An iterator is an object that can be iterated upon, meaning that you can traverse through all the values.\n",
    "\n",
    "l=[2, 4, 6, 8, 10, 12, 14, 16,18,20]\n",
    "\n",
    "def a(l):\n",
    "    return[l[0:5]]\n",
    "    \n",
    "        \n",
    "    "
   ]
  },
  {
   "cell_type": "code",
   "execution_count": 55,
   "id": "4c0647dd-c5ca-465e-8e54-c50c32efe429",
   "metadata": {},
   "outputs": [
    {
     "data": {
      "text/plain": [
       "[[2, 4, 6, 8, 10]]"
      ]
     },
     "execution_count": 55,
     "metadata": {},
     "output_type": "execute_result"
    }
   ],
   "source": [
    "a(l)"
   ]
  },
  {
   "cell_type": "code",
   "execution_count": 56,
   "id": "669143a4-172d-4748-8043-0be9a152ab1a",
   "metadata": {},
   "outputs": [],
   "source": [
    "# Question 4: What is a generator function in python? Why yield keyword is used? Give an example of a generator function.\n",
    "# Solution:A Python generator function allows you to declare a function that behaves like an iterator, providing a faster and easier way to create iterators.\n",
    "#The yield keyword in Python controls the flow of a generator function. This is similar to a return statement used for returning values in Python.\n",
    "\n",
    "def multiples_of_5(n):\n",
    "    a=0\n",
    "    for i in range(n):\n",
    "        yield a\n",
    "        a= a+5"
   ]
  },
  {
   "cell_type": "code",
   "execution_count": 57,
   "id": "6a411965-12db-4e1b-80a2-c0d510979dce",
   "metadata": {},
   "outputs": [
    {
     "data": {
      "text/plain": [
       "<generator object multiples_of_5 at 0x7fd71e2cd850>"
      ]
     },
     "execution_count": 57,
     "metadata": {},
     "output_type": "execute_result"
    }
   ],
   "source": [
    "multiples_of_5(10)"
   ]
  },
  {
   "cell_type": "code",
   "execution_count": 59,
   "id": "282fb2a8-86ff-4743-9297-5d1233e7b23e",
   "metadata": {},
   "outputs": [
    {
     "name": "stdout",
     "output_type": "stream",
     "text": [
      "0\n",
      "5\n",
      "10\n",
      "15\n",
      "20\n",
      "25\n",
      "30\n",
      "35\n",
      "40\n",
      "45\n",
      "50\n"
     ]
    }
   ],
   "source": [
    "for i in multiples_of_5(11):\n",
    "    print(i)"
   ]
  },
  {
   "cell_type": "code",
   "execution_count": 17,
   "id": "268a64e1-adfb-4ee7-911d-c803d13f01bb",
   "metadata": {},
   "outputs": [],
   "source": [
    "# Question 5: Create a generator function for prime numbers less than 1000. Use the next() method to print the first 20 prime numbers.\n",
    "# Solution : \n",
    "def prime(n):\n",
    "    l=[]\n",
    "    for i in range(n+1):\n",
    "        if i>1:\n",
    "            for j in range(2,i):\n",
    "                if (i%j)==0:\n",
    "                        break\n",
    "                else:\n",
    "                    l.append(i)\n",
    "    return l\n",
    "            "
   ]
  },
  {
   "cell_type": "code",
   "execution_count": 18,
   "id": "c53ca092-824a-4a4a-bef3-bb20750f7f59",
   "metadata": {},
   "outputs": [
    {
     "data": {
      "text/plain": [
       "[3, 5, 5, 5, 7, 7, 7, 7, 7, 9]"
      ]
     },
     "execution_count": 18,
     "metadata": {},
     "output_type": "execute_result"
    }
   ],
   "source": [
    "prime(10)"
   ]
  },
  {
   "cell_type": "code",
   "execution_count": null,
   "id": "95c46c35-f7dd-4c16-8e5a-fa27fbf7e119",
   "metadata": {},
   "outputs": [],
   "source": []
  }
 ],
 "metadata": {
  "kernelspec": {
   "display_name": "Python 3 (ipykernel)",
   "language": "python",
   "name": "python3"
  },
  "language_info": {
   "codemirror_mode": {
    "name": "ipython",
    "version": 3
   },
   "file_extension": ".py",
   "mimetype": "text/x-python",
   "name": "python",
   "nbconvert_exporter": "python",
   "pygments_lexer": "ipython3",
   "version": "3.10.8"
  }
 },
 "nbformat": 4,
 "nbformat_minor": 5
}
