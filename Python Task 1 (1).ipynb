{
 "cells": [
  {
   "cell_type": "raw",
   "id": "37e1b419-292e-4b75-bec1-6f8a73f2c3ce",
   "metadata": {},
   "source": []
  },
  {
   "cell_type": "code",
   "execution_count": 1,
   "id": "78df3ef1-0941-4a20-929d-f2cd85afc8b8",
   "metadata": {},
   "outputs": [
    {
     "data": {
      "text/plain": [
       "'Q1. Create a function which will take a list as an argument and return the product of all the numbers\\nafter creating a flat list.\\nUse the below-given list as an argument for your function.\\nlist1 = [1,2,3,4, [44,55,66, True], False, (34,56,78,89,34), {1,2,3,3,2,1}, {1:34, \"key2\": [55, 67, 78, 89], 4: (45,\\n22, 61, 34)}, [56, \\'data science\\'], \\'Machine Learning\\']\\nNote: you must extract numeric keys and values of the dictionary also.\\n\\nlist1 = [1,2,3,4, [44,55,66, True], False, (34,56,78,89,34), {1,2,3,3,2,1}, {1:34, \"key2\": [55, 67, 78, 89], 4: (45,\\n22, 61, 34)}, [56, \\'data science\\'], \\'Machine Learning\\']'"
      ]
     },
     "execution_count": 1,
     "metadata": {},
     "output_type": "execute_result"
    }
   ],
   "source": [
    "'''Q1. Create a function which will take a list as an argument and return the product of all the numbers\n",
    "after creating a flat list.\n",
    "Use the below-given list as an argument for your function.\n",
    "list1 = [1,2,3,4, [44,55,66, True], False, (34,56,78,89,34), {1,2,3,3,2,1}, {1:34, \"key2\": [55, 67, 78, 89], 4: (45,\n",
    "22, 61, 34)}, [56, 'data science'], 'Machine Learning']\n",
    "Note: you must extract numeric keys and values of the dictionary also.\n",
    "\n",
    "list1 = [1,2,3,4, [44,55,66, True], False, (34,56,78,89,34), {1,2,3,3,2,1}, {1:34, \"key2\": [55, 67, 78, 89], 4: (45,\n",
    "22, 61, 34)}, [56, 'data science'], 'Machine Learning']'''"
   ]
  },
  {
   "cell_type": "code",
   "execution_count": 81,
   "id": "a4bb75c7-ebb6-4375-95fe-90331d9268a4",
   "metadata": {},
   "outputs": [],
   "source": [
    "from functools import reduce\n",
    "\n",
    "def q(p):\n",
    "    l=[]\n",
    "    for i in p:\n",
    "        if type(i)==int or type(i)==float:\n",
    "            l.append(i)\n",
    "            \n",
    "        elif type(i)==list:\n",
    "            l.extend(i)\n",
    "        elif type(i)==tuple or type(i)==set:\n",
    "            l.extend(list(i))\n",
    "        elif type(i)==dict:\n",
    "            for k,v in i.items():\n",
    "                l.append(k)\n",
    "                \n",
    "                if type(v)==int or type(v)==float:\n",
    "                    l.append(v)\n",
    "                elif type(v)==tuple or type(v)==set:\n",
    "                    l.extend(list(v))\n",
    "                elif type(v)==list:\n",
    "                    l.extend(v)\n",
    "        \n",
    "    w=list(filter(lambda x: type(x)==int or type(x)==float,l))\n",
    "    r=reduce(lambda x,y: x*y,w)\n",
    "    return r\n",
    "            \n",
    "        "
   ]
  },
  {
   "cell_type": "code",
   "execution_count": 82,
   "id": "10bbe4f1-1eb1-4bd9-89df-627caa95edbc",
   "metadata": {},
   "outputs": [
    {
     "data": {
      "text/plain": [
       "4134711838987085478833841242112000"
      ]
     },
     "execution_count": 82,
     "metadata": {},
     "output_type": "execute_result"
    }
   ],
   "source": [
    "q(list1)"
   ]
  },
  {
   "cell_type": "code",
   "execution_count": 2,
   "id": "a9454e22-eee3-40a7-9f28-cbda812e242f",
   "metadata": {},
   "outputs": [
    {
     "data": {
      "text/plain": [
       "'Q2. Write a python program for encrypting a message sent to you by your friend. The logic of encryption\\nshould be such that, for a the output should be z. For b, the output should be y. For c, the output should\\nbe x respectively. Also, the whitespace should be replaced with a dollar sign. Keep the punctuation\\nmarks unchanged.\\nInput Sentence: I want to become a Data Scientist.\\nEncrypt the above input sentence using the program you just created.\\nNote: Convert the given input sentence into lowercase before encrypting. The final output should be\\nlowercase.'"
      ]
     },
     "execution_count": 2,
     "metadata": {},
     "output_type": "execute_result"
    }
   ],
   "source": [
    "'''Q2. Write a python program for encrypting a message sent to you by your friend. The logic of encryption\n",
    "should be such that, for a the output should be z. For b, the output should be y. For c, the output should\n",
    "be x respectively. Also, the whitespace should be replaced with a dollar sign. Keep the punctuation\n",
    "marks unchanged.\n",
    "Input Sentence: I want to become a Data Scientist.\n",
    "Encrypt the above input sentence using the program you just created.\n",
    "Note: Convert the given input sentence into lowercase before encrypting. The final output should be\n",
    "lowercase.'''"
   ]
  },
  {
   "cell_type": "code",
   "execution_count": 6,
   "id": "22b6bcdf-2388-4321-a237-490135be7b06",
   "metadata": {},
   "outputs": [],
   "source": [
    "def e(s):\n",
    "    n=s.lower()\n",
    "    print(f\"Given String: {s}\\n\")\n",
    "    msg=\"\"\n",
    "    for i in n:\n",
    "        asc=ord(i)\n",
    "        if asc>=97 and asc<=122:\n",
    "            msg = msg + chr(122 - (asc - 97))\n",
    "        elif i== \" \":\n",
    "            msg = msg + \"$\"\n",
    "    print(f\"Encrypted Message = {msg}\\n\")"
   ]
  },
  {
   "cell_type": "code",
   "execution_count": 7,
   "id": "07629a7a-d2b5-47fb-904b-5b598527c29c",
   "metadata": {},
   "outputs": [
    {
     "name": "stdout",
     "output_type": "stream",
     "text": [
      "Given String: Arnav\n",
      "\n",
      "Encrypted Message = zimze\n",
      "\n"
     ]
    }
   ],
   "source": [
    "e(\"Arnav\")"
   ]
  },
  {
   "cell_type": "code",
   "execution_count": 8,
   "id": "63c8a1d4-0b7f-48eb-8a31-9a0fcae1091c",
   "metadata": {},
   "outputs": [
    {
     "name": "stdout",
     "output_type": "stream",
     "text": [
      "Given String:  I WaNT tO BEcoMe a DAtA ScIENtisT\n",
      "\n",
      "Encrypted Message = $r$dzmg$gl$yvxlnv$z$wzgz$hxrvmgrhg\n",
      "\n"
     ]
    }
   ],
   "source": [
    "e(\" I WaNT tO BEcoMe a DAtA ScIENtisT\")"
   ]
  },
  {
   "cell_type": "code",
   "execution_count": null,
   "id": "90134eea-2732-4ff9-90f2-600359d3d408",
   "metadata": {},
   "outputs": [],
   "source": []
  }
 ],
 "metadata": {
  "kernelspec": {
   "display_name": "Python 3 (ipykernel)",
   "language": "python",
   "name": "python3"
  },
  "language_info": {
   "codemirror_mode": {
    "name": "ipython",
    "version": 3
   },
   "file_extension": ".py",
   "mimetype": "text/x-python",
   "name": "python",
   "nbconvert_exporter": "python",
   "pygments_lexer": "ipython3",
   "version": "3.10.8"
  }
 },
 "nbformat": 4,
 "nbformat_minor": 5
}
