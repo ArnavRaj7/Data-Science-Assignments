{
 "cells": [
  {
   "cell_type": "raw",
   "id": "af519d8e-0630-4808-9260-cf2ef9e8703c",
   "metadata": {},
   "source": [
    "Question 1"
   ]
  },
  {
   "cell_type": "raw",
   "id": "cdb4bdd0-bbde-4758-beb9-6ed2f1b45020",
   "metadata": {},
   "source": [
    "Classes are user-defined data types that act as the blueprint for individual objects, attributes and methods. \n",
    "Objects are instances of a class created with specifically defined data.\n",
    "\n",
    "Example:\n",
    "A 'DOG' is a Class, and it's attributes like 'Name','Breed','Age','Color' can be referred to it's objects"
   ]
  },
  {
   "cell_type": "raw",
   "id": "47a5d4f7-9941-4c80-bcad-798ce0e224e3",
   "metadata": {},
   "source": [
    "Question 2"
   ]
  },
  {
   "cell_type": "raw",
   "id": "89985567-9e5a-4c66-b91d-131afa8b51d8",
   "metadata": {},
   "source": [
    "The Four Pillars of OOPS are:\n",
    "    Abstraction\n",
    "    Encapsulation\n",
    "    Inheritance\n",
    "    Polymorphism"
   ]
  },
  {
   "cell_type": "raw",
   "id": "779771c3-8b3c-4b39-b2c9-085a831f3242",
   "metadata": {},
   "source": [
    "Question 3"
   ]
  },
  {
   "cell_type": "raw",
   "id": "00647094-741b-49a2-80ca-02c4849ebf90",
   "metadata": {},
   "source": [
    "The __init__() function is used as it's a pre defined Constructor in Python.\n",
    "Constructors are used to take /store Data in Class.\n",
    "\n",
    "For Example:"
   ]
  },
  {
   "cell_type": "code",
   "execution_count": 4,
   "id": "6e382fe4-1021-4e0b-a142-ee115cdd5da6",
   "metadata": {},
   "outputs": [
    {
     "data": {
      "text/plain": [
       "(9876543, 'arnav@mriirs')"
      ]
     },
     "execution_count": 4,
     "metadata": {},
     "output_type": "execute_result"
    }
   ],
   "source": [
    "class mriirs: # Class is Formed\n",
    "    \n",
    "    def __init__(a,phno,email): #the __init__() function will now help in storing data like phone number and email address\n",
    "        a.p=phno\n",
    "        a.e=email\n",
    "        \n",
    "    def returna(a):\n",
    "        return a.p,a.e\n",
    "    \n",
    "arnav=mriirs(9876543,\"arnav@mriirs\") # Data is Entered\n",
    "\n",
    "arnav.returna() # Data will be returned as Output\n",
    "        "
   ]
  },
  {
   "cell_type": "raw",
   "id": "d97603ea-0073-4ffa-969c-e4cc51cad817",
   "metadata": {},
   "source": [
    "Question 4"
   ]
  },
  {
   "cell_type": "raw",
   "id": "2798b656-f129-4feb-aa31-dab4bc862428",
   "metadata": {},
   "source": [
    "'self' is not a keyword, but it's main purpose is to act as reference to the Object. \n",
    "OOPS uses 'self' to refer to Object's Attributes"
   ]
  },
  {
   "cell_type": "raw",
   "id": "9338ef5d-29d4-4fc2-b854-41c1a25c559f",
   "metadata": {},
   "source": [
    "Question 5"
   ]
  },
  {
   "cell_type": "raw",
   "id": "85d485f9-7127-4fc0-aa8a-372b4aae8366",
   "metadata": {},
   "source": [
    "Inheritance is the concept in OOPs in which one class inherits the attributes and methods of another class. The class whose properties and methods are inherited is known as the Parent class. And the class that inherits the properties from the parent class is the Child class\n",
    "\n",
    "There are 5 types of Inheritance in OOPS:\n",
    "\n",
    "1. Single Inheritance\n",
    "2. Multiple Inheritance\n",
    "3. Multilevel Inheritance\n",
    "4. Hierarchi"
   ]
  },
  {
   "cell_type": "code",
   "execution_count": null,
   "id": "5901b8d5-f2f6-4154-b652-eb85f9c5613c",
   "metadata": {},
   "outputs": [],
   "source": []
  }
 ],
 "metadata": {
  "kernelspec": {
   "display_name": "Python 3 (ipykernel)",
   "language": "python",
   "name": "python3"
  },
  "language_info": {
   "codemirror_mode": {
    "name": "ipython",
    "version": 3
   },
   "file_extension": ".py",
   "mimetype": "text/x-python",
   "name": "python",
   "nbconvert_exporter": "python",
   "pygments_lexer": "ipython3",
   "version": "3.10.8"
  }
 },
 "nbformat": 4,
 "nbformat_minor": 5
}
