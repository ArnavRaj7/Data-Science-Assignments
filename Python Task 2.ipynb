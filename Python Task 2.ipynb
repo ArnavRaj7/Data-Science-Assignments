{
 "cells": [
  {
   "cell_type": "raw",
   "id": "7d7dfd5d-7f63-436f-9eb7-829f0a732c98",
   "metadata": {},
   "source": [
    "Q1. You are writing code for a company. The requirement of the company is that you create a python\n",
    "function that will check whether the password entered by the user is correct or not. The function should\n",
    "take the password as input and return the string “Valid Password” if the entered password follows the\n",
    "below-given password guidelines else it should return “Invalid Password”.\n",
    "\n",
    "Note: 1. The Password should contain at least two uppercase letters and at least two lowercase letters.\n",
    "2. The Password should contain at least a number and three special characters.\n",
    "3. The length of the password should be 10 characters long."
   ]
  },
  {
   "cell_type": "code",
   "execution_count": 4,
   "id": "973ff4da-d66b-4d96-ba93-c68bf3227afb",
   "metadata": {},
   "outputs": [
    {
     "name": "stdin",
     "output_type": "stream",
     "text": [
      "Enter Password:  Arnav1@#$L\n"
     ]
    },
    {
     "name": "stdout",
     "output_type": "stream",
     "text": [
      "Valid Password\n"
     ]
    }
   ],
   "source": [
    "def pas(a):\n",
    "    uc=0\n",
    "    lc=0\n",
    "    num=0\n",
    "    spc=0\n",
    "    \n",
    "    for i in a:\n",
    "        if i.isupper():\n",
    "            uc+=1\n",
    "        if i.islower() == True:\n",
    "            lc+=1\n",
    "        if i.isdigit() == True:\n",
    "            num+=1\n",
    "        if i.isalnum()==False:\n",
    "            spc+=1\n",
    "    if uc>=2 and lc>=2 and num>=1 and spc>=3 and len(a)==10:\n",
    "        print(\"Valid Password\")\n",
    "    else:\n",
    "        print(\"Invalid Password\")\n",
    "        \n",
    "p=input(\"Enter Password: \")\n",
    "pas(p)"
   ]
  },
  {
   "cell_type": "raw",
   "id": "a5194eb0-b22e-4ecc-934b-23a10db5c569",
   "metadata": {},
   "source": [
    "Q2. Solve the below-given questions using at least one of the following:\n",
    "1. Lambda function\n",
    "2. Filter function\n",
    "3. Map function\n",
    "4. List Comprehension\n",
    "\n",
    " Check if the string starts with a particular letter.\n",
    " Check if the string is numeric.\n",
    " Sort a list of tuples having fruit names and their quantity. [(\"mango\",99),(\"orange\",80), (\"grapes\", 1000)-\n",
    " Find the squares of numbers from 1 to 10\n",
    " Find the cube root of numbers from 1 to 10\n",
    " Check if a given number is even\n",
    " Filter odd numbers from the given list.\n",
    "[1,2,3,4,5,6,7,8,9,10]\n",
    " Sort a list of integers into positive and negative integers lists.\n",
    "[1,2,3,4,5,6,-1,-2,-3,-4,-5,0]"
   ]
  },
  {
   "cell_type": "code",
   "execution_count": 87,
   "id": "508aa6c7-8daf-46d3-9110-72ef40513419",
   "metadata": {},
   "outputs": [
    {
     "name": "stdin",
     "output_type": "stream",
     "text": [
      "Enter String arnav\n"
     ]
    },
    {
     "data": {
      "text/plain": [
       "True"
      ]
     },
     "execution_count": 87,
     "metadata": {},
     "output_type": "execute_result"
    }
   ],
   "source": [
    "# Check if string starts with a particular letter\n",
    "b=input(\"Enter String\")\n",
    "c=lambda x: x.startswith(\"a\")\n",
    "c(b)"
   ]
  },
  {
   "cell_type": "code",
   "execution_count": 88,
   "id": "48763eb3-cedf-4de6-871f-0306ebeb2624",
   "metadata": {},
   "outputs": [
    {
     "data": {
      "text/plain": [
       "True"
      ]
     },
     "execution_count": 88,
     "metadata": {},
     "output_type": "execute_result"
    }
   ],
   "source": [
    "c(\"arnav\")"
   ]
  },
  {
   "cell_type": "code",
   "execution_count": 89,
   "id": "0cced421-e69f-4189-ba05-d67e3d4900fb",
   "metadata": {},
   "outputs": [
    {
     "name": "stdin",
     "output_type": "stream",
     "text": [
      "Enter String 123\n"
     ]
    },
    {
     "data": {
      "text/plain": [
       "True"
      ]
     },
     "execution_count": 89,
     "metadata": {},
     "output_type": "execute_result"
    }
   ],
   "source": [
    "# Check if string is numeric\n",
    "\n",
    "a=input(\"Enter String\")\n",
    "b= lambda c: c.isnumeric()\n",
    "b(a)"
   ]
  },
  {
   "cell_type": "code",
   "execution_count": 47,
   "id": "e394bf60-577c-43c4-9bdb-fd22c6bc5d65",
   "metadata": {},
   "outputs": [
    {
     "data": {
      "text/plain": [
       "True"
      ]
     },
     "execution_count": 47,
     "metadata": {},
     "output_type": "execute_result"
    }
   ],
   "source": [
    "b(\"456\")"
   ]
  },
  {
   "cell_type": "code",
   "execution_count": 94,
   "id": "0195b5b2-b8a9-4f15-99d4-e8079aca50a2",
   "metadata": {},
   "outputs": [
    {
     "data": {
      "text/plain": [
       "[('grapes', 1000), ('mango', 99), ('orange', 80)]"
      ]
     },
     "execution_count": 94,
     "metadata": {},
     "output_type": "execute_result"
    }
   ],
   "source": [
    "# Sort a list of Tuples and their Quantity:\n",
    "\n",
    "f = [(\"mango\",99),(\"orange\",80), (\"grapes\", 1000)]\n",
    "a=sorted(f,key=lambda c: c[0])\n",
    "a"
   ]
  },
  {
   "cell_type": "code",
   "execution_count": 106,
   "id": "9fe60eb7-06af-4af0-abc3-528c5fa4e56c",
   "metadata": {},
   "outputs": [
    {
     "data": {
      "text/plain": [
       "[1, 4, 9, 16, 25, 36, 49, 64, 81, 100]"
      ]
     },
     "execution_count": 106,
     "metadata": {},
     "output_type": "execute_result"
    }
   ],
   "source": [
    "# Find Squares of numbers from 1 to 10:\n",
    "\n",
    "a=[x**2 for x in range(1,11)]\n",
    "a"
   ]
  },
  {
   "cell_type": "code",
   "execution_count": 109,
   "id": "585ceb93-22c9-4df6-9ddc-f056fa81b72d",
   "metadata": {},
   "outputs": [
    {
     "data": {
      "text/plain": [
       "[1.0,\n",
       " 1.2599210498948732,\n",
       " 1.4422495703074083,\n",
       " 1.5874010519681994,\n",
       " 1.7099759466766968,\n",
       " 1.8171205928321397,\n",
       " 1.912931182772389,\n",
       " 2.0,\n",
       " 2.080083823051904,\n",
       " 2.154434690031884]"
      ]
     },
     "execution_count": 109,
     "metadata": {},
     "output_type": "execute_result"
    }
   ],
   "source": [
    "# Cube roots for numbers 1 to 10:\n",
    "\n",
    "a=[pow(x,(1/3)) for x in range(1,11)]\n",
    "a"
   ]
  },
  {
   "cell_type": "code",
   "execution_count": 128,
   "id": "3d227a57-6ef9-4f26-b03e-2006744f9751",
   "metadata": {},
   "outputs": [
    {
     "name": "stdin",
     "output_type": "stream",
     "text": [
      "Enter Number 479856\n"
     ]
    },
    {
     "name": "stdout",
     "output_type": "stream",
     "text": [
      "Even\n"
     ]
    }
   ],
   "source": [
    "# Check if given number is Even:\n",
    "b=int(input(\"Enter Number\"))\n",
    "c= lambda d: print(\"Even\") if d % 2==0 else print(\"Not Even\")\n",
    "c(b)"
   ]
  },
  {
   "cell_type": "code",
   "execution_count": 131,
   "id": "f8f569d5-bfa1-4913-bad1-42d01d620db3",
   "metadata": {},
   "outputs": [
    {
     "data": {
      "text/plain": [
       "[1, 3, 5, 7, 9]"
      ]
     },
     "execution_count": 131,
     "metadata": {},
     "output_type": "execute_result"
    }
   ],
   "source": [
    "# Filter Odd Numbers from a given list:\n",
    "l=[1,2,3,4,5,6,7,8,9,10]\n",
    "\n",
    "a= list(filter(lambda x: x %2 !=0,l))\n",
    "a"
   ]
  },
  {
   "cell_type": "code",
   "execution_count": 138,
   "id": "5c587f02-3b8a-48e0-8643-bfe838e1f599",
   "metadata": {},
   "outputs": [
    {
     "name": "stdout",
     "output_type": "stream",
     "text": [
      "[1, 2, 3, 4, 5, 6]\n",
      "[-1, -2, -3, -4, -5]\n"
     ]
    }
   ],
   "source": [
    "# Sort a list into positive and negative integers:\n",
    "\n",
    "q=[1,2,3,4,5,6,-1,-2,-3,-4,-5,0]\n",
    "\n",
    "pos=[x for x in q if x>0]\n",
    "neg=[x for x in q if x<0]\n",
    "print(pos)\n",
    "print(neg)"
   ]
  },
  {
   "cell_type": "code",
   "execution_count": null,
   "id": "2b49ed98-6504-427b-9e6c-7ee8a03335b4",
   "metadata": {},
   "outputs": [],
   "source": []
  }
 ],
 "metadata": {
  "kernelspec": {
   "display_name": "Python 3 (ipykernel)",
   "language": "python",
   "name": "python3"
  },
  "language_info": {
   "codemirror_mode": {
    "name": "ipython",
    "version": 3
   },
   "file_extension": ".py",
   "mimetype": "text/x-python",
   "name": "python",
   "nbconvert_exporter": "python",
   "pygments_lexer": "ipython3",
   "version": "3.10.8"
  }
 },
 "nbformat": 4,
 "nbformat_minor": 5
}
