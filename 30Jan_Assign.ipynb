{
 "cells": [
  {
   "cell_type": "code",
   "execution_count": 6,
   "id": "1e07aeb9-89f4-456c-9592-6bcbacd0beae",
   "metadata": {},
   "outputs": [
    {
     "name": "stdin",
     "output_type": "stream",
     "text": [
      "Enter Percentage:  87\n"
     ]
    },
    {
     "name": "stdout",
     "output_type": "stream",
     "text": [
      "B\n"
     ]
    }
   ],
   "source": [
    "#Question 1\n",
    "#Take input from user and give grade accordingly\n",
    "\n",
    "x=int(input(\"Enter Percentage: \"))\n",
    "if x>100:\n",
    "    print(\"Invalid Percentage\")\n",
    "elif x>90:\n",
    "    print(\"A\")\n",
    "elif x>80 and x<=90:\n",
    "    print(\"B\")\n",
    "elif x>=60 and x<=80:\n",
    "    print(\"C\")\n",
    "elif x<60:\n",
    "    print(\"D\")"
   ]
  },
  {
   "cell_type": "code",
   "execution_count": 12,
   "id": "e7fa6645-409a-43cc-aa3c-63372cfcbc71",
   "metadata": {},
   "outputs": [
    {
     "name": "stdin",
     "output_type": "stream",
     "text": [
      "Enter CP of Bike:  80000\n"
     ]
    },
    {
     "name": "stdout",
     "output_type": "stream",
     "text": [
      "Road Tax=8000.0\n"
     ]
    }
   ],
   "source": [
    "## Question 2 \n",
    "## TAke Input from User and calculate road tax acc to cost price\n",
    "\n",
    "x=int(input(\"Enter CP of Bike: \"))\n",
    "if x>100000:\n",
    "    print(\"Road Tax={a}\".format(a=x*0.15))\n",
    "elif x>50000 and x<=100000:\n",
    "    print(\"Road Tax={a}\".format(a=x*0.1))\n",
    "elif x<=50000:\n",
    "    print(\"Road Tax={a}\".format(a=x*0.05))"
   ]
  },
  {
   "cell_type": "code",
   "execution_count": 18,
   "id": "0b147e3c-357a-4527-b51f-bf43a1e7606d",
   "metadata": {},
   "outputs": [
    {
     "name": "stdin",
     "output_type": "stream",
     "text": [
      "Enter City:  Jaipur\n"
     ]
    },
    {
     "name": "stdout",
     "output_type": "stream",
     "text": [
      "Jal Mahal\n"
     ]
    }
   ],
   "source": [
    "## Question 3\n",
    "# City and Monuments\n",
    "x= str(input(\"Enter City: \"))\n",
    "if x=='Delhi':\n",
    "    print(\"Red Fort\")\n",
    "elif x=='Agra':\n",
    "    print(\"Taj Mahal\")\n",
    "elif x=='Jaipur':\n",
    "    print(\"Jal Mahal\")"
   ]
  },
  {
   "cell_type": "code",
   "execution_count": null,
   "id": "f539bb7b-a057-4268-948c-28d52c1d6f25",
   "metadata": {},
   "outputs": [],
   "source": [
    "## Question 4\n",
    "# Check How many times a number can be divided by 3 before it is less than or equal to 10\n",
    "x=int(input(\"Enter Number: \"))\n",
    "a=x%3\n",
    "print(\"Number is greater than 10 until {t} times\".format(t=a-3))\n"
   ]
  },
  {
   "cell_type": "markdown",
   "id": "2eda8c9e-de0e-4e56-82ba-eca8b406bb35",
   "metadata": {},
   "source": [
    "## Question 5\n",
    "# Why and Whhen to use While Loop\n",
    "\n",
    "While Loops are used when we have a starting value; and we want to repeatedly execute the same code until a certain condition is met.\n",
    "\n",
    "\n"
   ]
  },
  {
   "cell_type": "code",
   "execution_count": 10,
   "id": "b3276894-2bba-4b50-9255-314ff30794a7",
   "metadata": {},
   "outputs": [
    {
     "name": "stdout",
     "output_type": "stream",
     "text": [
      "10\n",
      "11\n",
      "12\n",
      "13\n",
      "14\n",
      "15\n",
      "16\n",
      "17\n",
      "18\n",
      "19\n",
      "20\n",
      "Over 20 not allowed\n"
     ]
    }
   ],
   "source": [
    "#Example of While Loop\n",
    "\n",
    "age =10\n",
    "\n",
    "while age<=20:\n",
    "    print(age)\n",
    "    age=age+1\n",
    "else:\n",
    "    print(\"Over 20 not allowed\")"
   ]
  },
  {
   "cell_type": "code",
   "execution_count": 1,
   "id": "5aad445a-e02e-445b-b28b-8d7a941a7e37",
   "metadata": {},
   "outputs": [
    {
     "name": "stdout",
     "output_type": "stream",
     "text": [
      "@\n",
      "@@\n",
      "@@@\n",
      "@@@@\n",
      "@@@@@\n"
     ]
    }
   ],
   "source": [
    "## Question 6 \n",
    "## Use Nested Loop to print 3 different patterns\n",
    "\n",
    "1.\n",
    "n=5\n",
    "\n",
    "for i in range(0,n):\n",
    "    for j in range(0,i+1):\n",
    "        print(\"@\",end=\"\")\n",
    "    print(\"\\r\")"
   ]
  },
  {
   "cell_type": "code",
   "execution_count": 3,
   "id": "b9aea5ae-1f8f-4a70-aa7f-8c16633554a1",
   "metadata": {},
   "outputs": [
    {
     "name": "stdout",
     "output_type": "stream",
     "text": [
      "$$$$\n",
      "$$$$\n",
      "$$$$\n",
      "$$$$\n"
     ]
    }
   ],
   "source": [
    "2.\n",
    "n= 4\n",
    "\n",
    "for i in range(0,n):\n",
    "    for j in range(0,n):\n",
    "        print(\"$\",end=\"\")\n",
    "    print(\"\\r\")"
   ]
  },
  {
   "cell_type": "code",
   "execution_count": 11,
   "id": "a08fd281-26b4-412c-b8f6-42726bc77202",
   "metadata": {},
   "outputs": [
    {
     "name": "stdout",
     "output_type": "stream",
     "text": [
      "     *\n",
      "    **\n",
      "   ***\n",
      "  ****\n",
      " *****\n"
     ]
    }
   ],
   "source": [
    "3.\n",
    "\n",
    "n = 5\n",
    "for i in range(n):\n",
    "    for j in range(0, n- i):\n",
    "        print(\" \", end=\"\")\n",
    "    for k in range(0, i + 1):\n",
    "        print(\"*\", end=\"\")\n",
    "    print()"
   ]
  },
  {
   "cell_type": "code",
   "execution_count": 18,
   "id": "03428f90-810f-4ef6-8713-f942e8ba0d7a",
   "metadata": {},
   "outputs": [
    {
     "name": "stdout",
     "output_type": "stream",
     "text": [
      "10\n",
      "9\n",
      "8\n",
      "7\n",
      "6\n",
      "5\n",
      "4\n",
      "3\n",
      "2\n",
      "1\n"
     ]
    }
   ],
   "source": [
    "## Question 7\n",
    "# Reverse While Loop\n",
    "\n",
    "n=10\n",
    "while n>0:\n",
    "    print(n)\n",
    "    n=n-1"
   ]
  },
  {
   "cell_type": "code",
   "execution_count": null,
   "id": "54e4c240-422f-4002-8eec-116c3dea1fa7",
   "metadata": {},
   "outputs": [],
   "source": []
  }
 ],
 "metadata": {
  "kernelspec": {
   "display_name": "Python 3 (ipykernel)",
   "language": "python",
   "name": "python3"
  },
  "language_info": {
   "codemirror_mode": {
    "name": "ipython",
    "version": 3
   },
   "file_extension": ".py",
   "mimetype": "text/x-python",
   "name": "python",
   "nbconvert_exporter": "python",
   "pygments_lexer": "ipython3",
   "version": "3.10.8"
  }
 },
 "nbformat": 4,
 "nbformat_minor": 5
}
