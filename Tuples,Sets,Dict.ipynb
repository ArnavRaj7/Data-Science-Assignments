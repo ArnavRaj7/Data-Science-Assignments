{
 "cells": [
  {
   "cell_type": "raw",
   "id": "9c3e4be1-76ae-469f-a67b-46efdc36e361",
   "metadata": {},
   "source": [
    "Question 1: Characteristics of Tuples? Are Tuples Mutable?\n",
    "\n",
    "Answer:\n",
    "Tuples are indexed.\n",
    "Tuples are ordered.\n",
    "Tuples can contain duplicate items.\n",
    "\n",
    "Tuples are 'immutable'"
   ]
  },
  {
   "cell_type": "code",
   "execution_count": 4,
   "id": "befd8842-0b95-443a-a4a0-a7de838f53f0",
   "metadata": {},
   "outputs": [
    {
     "data": {
      "text/plain": [
       "3"
      ]
     },
     "execution_count": 4,
     "metadata": {},
     "output_type": "execute_result"
    }
   ],
   "source": [
    "#'''Question 2: What are the two tuple methods in python? Give an example of each method. Give a reason why tuples have only 2 built in methods compared to lists.\n",
    "\n",
    "#Answer:\n",
    "#Tuples have only 2 built in methods; Count() and Index()\n",
    "# Tuples have only 2 built in methods compared to a list because once we have assigned a tuple, it's not easy to change it's values because of immutability\n",
    "a=(1,1,1,2,2,3)\n",
    "a.count(1)\n",
    "\n"
   ]
  },
  {
   "cell_type": "code",
   "execution_count": 3,
   "id": "944ae564-4aca-4848-9d13-20ce03ec9d56",
   "metadata": {},
   "outputs": [
    {
     "data": {
      "text/plain": [
       "5"
      ]
     },
     "execution_count": 3,
     "metadata": {},
     "output_type": "execute_result"
    }
   ],
   "source": [
    "a.index(3)"
   ]
  },
  {
   "cell_type": "code",
   "execution_count": 10,
   "id": "9838843d-96d1-48bd-96bf-8e86c203b144",
   "metadata": {},
   "outputs": [
    {
     "data": {
      "text/plain": [
       "[1, 2, 3, 4]"
      ]
     },
     "execution_count": 10,
     "metadata": {},
     "output_type": "execute_result"
    }
   ],
   "source": [
    "'''Question 3: Which collection datatypes in python do not allow duplicate items? Write a code using a set to remove\n",
    "duplicates from the given list.'''\n",
    "\n",
    "# Answer:\n",
    "#'Sets' are the datatypes in python that do not allow duplicate items.\n",
    "# Program using Set to emove duplicate elements from a list\n",
    "#List = [1, 1, 1, 2, 1, 3, 1, 4, 2, 1, 2, 2, 2, 3, 2, 4, 3, 1, 3, 2, 3, 3, 3, 4, 4, 1, 4, 2, 4, 3, 4, 4]:\n",
    "List = [1, 1, 1, 2, 1, 3, 1, 4, 2, 1, 2, 2, 2, 3, 2, 4, 3, 1, 3, 2, 3, 3, 3, 4, 4, 1, 4, 2, 4, 3, 4, 4]\n",
    "a=set(List)\n",
    "b=list(a)\n",
    "(b)\n"
   ]
  },
  {
   "cell_type": "code",
   "execution_count": 13,
   "id": "149fc0ff-71c4-4e47-ab8a-5ab13d0d1157",
   "metadata": {},
   "outputs": [
    {
     "data": {
      "text/plain": [
       "({1, 2, 3, 4, 5, 6}, {1, 2, 3})"
      ]
     },
     "execution_count": 13,
     "metadata": {},
     "output_type": "execute_result"
    }
   ],
   "source": [
    "#Question 4: Explain the difference between the union() and update() methods for a set. Give an example of each Method.\n",
    "\n",
    "# Answer:\n",
    "#Both set.update() and set.union() perform the union operation. However, set.update() adds all missing elements to the set on which it is called whereas set.union() creates a new set.\n",
    "#Consequently, the return value of set.update() is None and the return value of set.union() is a set\n",
    "\n",
    "s={1,2,3}\n",
    "a={4,5,6}\n",
    "a.update(s)\n",
    "(a,s)"
   ]
  },
  {
   "cell_type": "code",
   "execution_count": 20,
   "id": "9fcf108f-281d-4354-8d52-1cf2295550b5",
   "metadata": {},
   "outputs": [
    {
     "data": {
      "text/plain": [
       "{1, 2, 3, 4, 5, 6, 7, 8}"
      ]
     },
     "execution_count": 20,
     "metadata": {},
     "output_type": "execute_result"
    }
   ],
   "source": [
    "a.union({7,8})"
   ]
  },
  {
   "cell_type": "code",
   "execution_count": 25,
   "id": "e0f25918-837d-4a87-82c5-8e2bf020c75d",
   "metadata": {},
   "outputs": [
    {
     "data": {
      "text/plain": [
       "{'k1': 247, 'k2': 'Arnav'}"
      ]
     },
     "execution_count": 25,
     "metadata": {},
     "output_type": "execute_result"
    }
   ],
   "source": [
    "# Question 5: What is a dictionary? Give an example. Also, state whether a dictionary is ordered or unordered.\n",
    "# Answer:\n",
    "#Dictionaries are used to store data values in key:value pairs.\n",
    "#A dictionary is a collection which is ordered,changeable and do not allow duplicates.\n",
    "\n",
    "d={\"k1\":247,\"k2\":\"Arnav\"}\n",
    "(d)"
   ]
  },
  {
   "cell_type": "code",
   "execution_count": 26,
   "id": "d9c48471-e1a1-4eae-ac2e-b2cb9915a593",
   "metadata": {},
   "outputs": [
    {
     "data": {
      "text/plain": [
       "{'k1': 123, 'k2': {34: 'Arnav', 43: 'Shashank'}}"
      ]
     },
     "execution_count": 26,
     "metadata": {},
     "output_type": "execute_result"
    }
   ],
   "source": [
    "# Question 6: Can we create a nested dictionary? If so, please give an example by creating a simple one-level Nested Dictionary.\n",
    "\n",
    "# Answer:\n",
    "# Yes, we can Create a Nested Dictionary.\n",
    "\n",
    "a={\"k1\":123,\"k2\":{34:\"Arnav\",43:\"Shashank\"}}\n",
    "(a)"
   ]
  },
  {
   "cell_type": "code",
   "execution_count": 30,
   "id": "657778ce-604b-46bd-a68d-b49b32dd6ad4",
   "metadata": {},
   "outputs": [
    {
     "data": {
      "text/plain": [
       "{'language': 'Python',\n",
       " 'course': 'Data Science Masters',\n",
       " 'topics': ['Python', 'Machine Learning', 'Deep Learning']}"
      ]
     },
     "execution_count": 30,
     "metadata": {},
     "output_type": "execute_result"
    }
   ],
   "source": [
    "# Question 7: Using setdefault() method, create key named topics in the given dictionary and also add the value of\n",
    "#the key as this list ['Python', 'Machine Learning’, 'Deep Learning']\n",
    "\n",
    "# Answer: \n",
    "dict1 = {'language' : 'Python', 'course': 'Data Science Masters'}\n",
    "a=dict1.setdefault(\"topics\",[\"Python\",\"Machine Learning\",\"Deep Learning\"])\n",
    "(dict1)"
   ]
  },
  {
   "cell_type": "code",
   "execution_count": null,
   "id": "8eafc00f-78a6-46ed-af06-cc39567e3fbc",
   "metadata": {},
   "outputs": [],
   "source": [
    "# Question 8: What are the three view objects in dictionaries? Use the three in-built methods in python to display\n",
    "#these three view objects for the given dictionary.\n",
    "\n",
    "# Answer:\n"
   ]
  }
 ],
 "metadata": {
  "kernelspec": {
   "display_name": "Python 3 (ipykernel)",
   "language": "python",
   "name": "python3"
  },
  "language_info": {
   "codemirror_mode": {
    "name": "ipython",
    "version": 3
   },
   "file_extension": ".py",
   "mimetype": "text/x-python",
   "name": "python",
   "nbconvert_exporter": "python",
   "pygments_lexer": "ipython3",
   "version": "3.10.8"
  }
 },
 "nbformat": 4,
 "nbformat_minor": 5
}
