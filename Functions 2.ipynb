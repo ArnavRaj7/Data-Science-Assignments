{
 "cells": [
  {
   "cell_type": "markdown",
   "id": "868c78c8-7cfe-4d99-8e46-36462eea9f3f",
   "metadata": {},
   "source": [
    "# Functions Assignment 2"
   ]
  },
  {
   "cell_type": "raw",
   "id": "536b0f17-4b8b-438a-98f3-193081ef3cb1",
   "metadata": {},
   "source": [
    "Question 1 "
   ]
  },
  {
   "cell_type": "code",
   "execution_count": 9,
   "id": "b1743262-81a6-4cf9-8f64-451fdf3c0e29",
   "metadata": {},
   "outputs": [
    {
     "data": {
      "text/plain": [
       "(\"('Sachin Tendulkar', 34357)\",\n",
       " \"('Ricky Ponting', 27483)\",\n",
       " \"('Jack Kallis', 25534)\",\n",
       " \"('Virat Kohli', 24936)\")"
      ]
     },
     "execution_count": 9,
     "metadata": {},
     "output_type": "execute_result"
    }
   ],
   "source": [
    "q=[('Sachin Tendulkar', 34357), ('Ricky Ponting', 27483), ('Jack Kallis', 25534), ('Virat Kohli', 24936)]\n",
    "tuple(map(lambda x: str(x),q))"
   ]
  },
  {
   "cell_type": "raw",
   "id": "19eb4f55-4ab6-4f11-8f57-a2a88100a5a4",
   "metadata": {},
   "source": [
    "Question 2"
   ]
  },
  {
   "cell_type": "code",
   "execution_count": 7,
   "id": "d3275897-6153-420a-90d4-b22702dddee6",
   "metadata": {},
   "outputs": [
    {
     "data": {
      "text/plain": [
       "[1, 4, 9, 16, 25, 36, 49, 64, 81, 100]"
      ]
     },
     "execution_count": 7,
     "metadata": {},
     "output_type": "execute_result"
    }
   ],
   "source": [
    "w=[1,2,3,4,5,6,7,8,9,10]\n",
    "list(map(lambda x:x**2,w))"
   ]
  },
  {
   "cell_type": "raw",
   "id": "8e1f8c80-ff92-4372-91a7-e149813a999f",
   "metadata": {},
   "source": [
    "Question 3"
   ]
  },
  {
   "cell_type": "code",
   "execution_count": 10,
   "id": "e000c3a0-eb83-4f0d-ab4d-2492512ebbc7",
   "metadata": {},
   "outputs": [
    {
     "data": {
      "text/plain": [
       "('1', '2', '3', '4', '5', '6', '7', '8', '9', '10')"
      ]
     },
     "execution_count": 10,
     "metadata": {},
     "output_type": "execute_result"
    }
   ],
   "source": [
    "e=[1, 2, 3, 4, 5, 6, 7, 8, 9, 10]\n",
    "tuple(map(lambda x: str(x),e))"
   ]
  },
  {
   "cell_type": "raw",
   "id": "9dd9a767-39cd-4143-a53e-9ae8b2e080a5",
   "metadata": {},
   "source": [
    "Question 4"
   ]
  },
  {
   "cell_type": "code",
   "execution_count": 12,
   "id": "b854d24a-b46c-46e9-8f35-886fc4c03559",
   "metadata": {},
   "outputs": [],
   "source": [
    "from functools import reduce"
   ]
  },
  {
   "cell_type": "code",
   "execution_count": 23,
   "id": "154a0204-e5c5-4548-b392-7d292fe290b3",
   "metadata": {},
   "outputs": [],
   "source": [
    "a=[x for x in range(1,26)]"
   ]
  },
  {
   "cell_type": "code",
   "execution_count": 24,
   "id": "b9cf5664-0a3e-49e3-9614-573e5b9c1c02",
   "metadata": {},
   "outputs": [
    {
     "data": {
      "text/plain": [
       "15511210043330985984000000"
      ]
     },
     "execution_count": 24,
     "metadata": {},
     "output_type": "execute_result"
    }
   ],
   "source": [
    "reduce(lambda x,y: x*y,a)"
   ]
  },
  {
   "cell_type": "raw",
   "id": "184e1c91-b660-41f4-8f45-1c8f750f1cb0",
   "metadata": {},
   "source": [
    "Question 5"
   ]
  },
  {
   "cell_type": "code",
   "execution_count": 28,
   "id": "f459965b-9084-4818-be49-b059c031eb82",
   "metadata": {},
   "outputs": [
    {
     "data": {
      "text/plain": [
       "[6, 60, 90, 120]"
      ]
     },
     "execution_count": 28,
     "metadata": {},
     "output_type": "execute_result"
    }
   ],
   "source": [
    "j=[2, 3, 6, 9, 27, 60, 90, 120, 55, 46]\n",
    "list(filter(lambda x: x%6==0,j))\n",
    "# A number will be divisible by 2 and 3 when it's divisible by 6;their lcm"
   ]
  },
  {
   "cell_type": "raw",
   "id": "3747512c-7bea-4743-835f-81d9d0cca61b",
   "metadata": {},
   "source": [
    "Question 6"
   ]
  },
  {
   "cell_type": "code",
   "execution_count": 35,
   "id": "1f752106-9aff-484f-a003-68ee4556fd82",
   "metadata": {},
   "outputs": [
    {
     "data": {
      "text/plain": [
       "['php', 'aba', 'radar', 'level']"
      ]
     },
     "execution_count": 35,
     "metadata": {},
     "output_type": "execute_result"
    }
   ],
   "source": [
    "m=['python', 'php', 'aba', 'radar', 'level']\n",
    "list(filter(lambda x:list(x)==list(reversed(x)),m))"
   ]
  },
  {
   "cell_type": "code",
   "execution_count": null,
   "id": "d20377a7-66f3-4d48-8c08-3f1902f382b3",
   "metadata": {},
   "outputs": [],
   "source": []
  }
 ],
 "metadata": {
  "kernelspec": {
   "display_name": "Python 3 (ipykernel)",
   "language": "python",
   "name": "python3"
  },
  "language_info": {
   "codemirror_mode": {
    "name": "ipython",
    "version": 3
   },
   "file_extension": ".py",
   "mimetype": "text/x-python",
   "name": "python",
   "nbconvert_exporter": "python",
   "pygments_lexer": "ipython3",
   "version": "3.10.8"
  }
 },
 "nbformat": 4,
 "nbformat_minor": 5
}
